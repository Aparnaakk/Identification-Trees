{
 "cells": [
  {
   "cell_type": "code",
   "execution_count": 10,
   "metadata": {
    "collapsed": true
   },
   "outputs": [],
   "source": [
    "\"\"\"\n",
    "mapping moods and other factors to themes using identification trees by calculating disorder \n",
    "and quality of a test.\n",
    "Tests for this particular dataset include age, gender,mood,weather, timestamp, etc\n",
    "\"\"\"\n",
    "\n",
    "import math\n",
    "\n",
    "#sample data\n",
    "titles=['age','gender','mood','themes']#tests used for generation of identification trees\n",
    "#dataset contains abstract answers for each of the above tests gathered from different resources\n",
    "data=[['forty','male','happy','activity'],\n",
    "      ['forty','female','happy','food'],\n",
    "      ['thirty','male','sad','food']]"
   ]
  },
  {
   "cell_type": "code",
   "execution_count": 13,
   "metadata": {
    "collapsed": false
   },
   "outputs": [],
   "source": [
    "def only_feat(titles):\n",
    "    \"\"\"\n",
    "    This function returns only the test names such as age, gender, mood and not the final \n",
    "    output of themes that has to be given by the identification tree\n",
    "    \"\"\"\n",
    "    of=[]#declaring an empty array\n",
    "    for each in titles:\n",
    "        if each!=titles[len(titles)-2]:\n",
    "            of.append(each)#appending to the empty array, those strings that are not\"themes\"\n",
    "    return of\n"
   ]
  },
  {
   "cell_type": "code",
   "execution_count": 14,
   "metadata": {
    "collapsed": true
   },
   "outputs": [],
   "source": [
    "def index(input,titles):\n",
    "    \"\"\"\n",
    "    The function outputs the index of a given test so that values of that test can be \n",
    "    accessed easily\n",
    "    \"\"\"\n",
    "    output=0\n",
    "    for each in titles:\n",
    "        if input==each:#if the inputted test is in the titles list, it returns the index or column number of that test\n",
    "            output=titles.index(each)\n",
    "    return output"
   ]
  },
  {
   "cell_type": "code",
   "execution_count": 15,
   "metadata": {
    "collapsed": true
   },
   "outputs": [],
   "source": [
    "def feat_entries(feat,given_data,titles):\n",
    "    \"\"\"\n",
    "    for a given test, the function outputs a list of all the values in the dataset for\n",
    "    that given test\n",
    "    \"\"\"\n",
    "    val=[]\n",
    "    i=index(feat,titles)#getting the index/column number of that test\n",
    "    for row in given_data:\n",
    "        val.append(row[i])#appending the values of each row for that specified column\n",
    "    return val"
   ]
  },
  {
   "cell_type": "code",
   "execution_count": 17,
   "metadata": {
    "collapsed": false
   },
   "outputs": [],
   "source": [
    "def unique_val(feat,given_data,titles):\n",
    "    \"\"\"\n",
    "    For a given test, the function outputs unique values for that test in the given datset\n",
    "    \"\"\"\n",
    "    unique=[]\n",
    "    entries=feat_entries(feat,given_data,titles)#obtaining all entries for a given test\n",
    "    for each in entries:\n",
    "        if unique.count(each)==0:\n",
    "            unique.append(each)#if the value of the entries is unique, the value is appended to the list\n",
    "    return unique"
   ]
  },
  {
   "cell_type": "code",
   "execution_count": 18,
   "metadata": {
    "collapsed": true
   },
   "outputs": [],
   "source": [
    "def modify_data(feat,value,given_data,titles):\n",
    "    \"\"\"\n",
    "    This function modifies the dataset such that only the rows that have a certain value of a\n",
    "    given test are used as the new dataset\n",
    "    \"\"\"\n",
    "    data_mod=[]\n",
    "    ind=index(feat,titles)#getting the index of a given test\n",
    "    for row in given_data:\n",
    "        if (row[ind]==value):#checks if a certain column in the given row has the required value\n",
    "            data_mod.append(row)#if true, appends, the row to data_mod\n",
    "    return data_mod"
   ]
  },
  {
   "cell_type": "code",
   "execution_count": 20,
   "metadata": {
    "collapsed": false
   },
   "outputs": [],
   "source": [
    "def quality(given_data,feat,titles):\n",
    "    \"\"\"\n",
    "    This test measures the quality of a given test to be used by the identification tree to \n",
    "    divide the dataset into branches to get classification\n",
    "    \"\"\"\n",
    "    values=unique_val(feat,given_data,titles)#all the unique values for a given test are obtained\n",
    "    quality=0.0# initializing our quality parameter to 0\n",
    "    m=len(given_data)#number of training examples\n",
    "    dis=0.0#initialzing our disorder variable to zero\n",
    "    \n",
    "    \n",
    "    for each in values:\n",
    "        data_mod=[]\n",
    "        ind=index(feat,titles)\n",
    "        for row in given_data:\n",
    "            if (row[ind]==each):\n",
    "                data_mod.append(row)\n",
    "        \"\"\"\n",
    "        The above para is used to get the modified dataset for a given value of a givent test\n",
    "        \"\"\"\n",
    "        n=len(data_mod)#number of columns in the dataset\n",
    "        \n",
    "        #initializing few variabes and list\n",
    "        entr=0.0\n",
    "        d=0.0\n",
    "        val=[]\n",
    "        \n",
    "        #val is made into a list that contains the final and actual output of the test\n",
    "        for row in data_mod:\n",
    "            val.append(row[len(row)-1])\n",
    "    \n",
    "        #all the unique class values are stores in the unique array\n",
    "        unique=[]\n",
    "        for one in val:\n",
    "            if unique.count(one)<=0:\n",
    "                unique.append(one)\n",
    "\n",
    "\n",
    "        for u in unique:\n",
    "            c=0.0#for each unique class that is to be classified by identification\n",
    "            for row in data_mod:\n",
    "                if (row[len(row)-1]==u):\n",
    "                    c+=1\n",
    "                    \"\"\"\n",
    "                    The c variable stores the number of training examples in the dataset that have\n",
    "                    a particular class value u.\n",
    "                    \n",
    "                    n is the total number columns in the modified dataset\n",
    "                    \"\"\"\n",
    "            #calculates entropy.the value c divided by n is multiplied by the negative of log of the same value to the base 2\n",
    "            \n",
    "            entr += (-c/n)*math.log(c/n,2)\n",
    "\n",
    "        #calculates disorder\n",
    "        \"\"\"\n",
    "        The disorder is used to measure how effective a given test would be to obtain a homogenous dataset \n",
    "        \"\"\"\n",
    "        #the calculated \n",
    "        d += (n/float(m))*entr\n",
    "        dis += d\n",
    "\n",
    "    return dis"
   ]
  },
  {
   "cell_type": "code",
   "execution_count": 21,
   "metadata": {
    "collapsed": true
   },
   "outputs": [],
   "source": [
    "def choose_feat(titles,given_data):\n",
    "    \"\"\"\n",
    "    This function chooses the test that has the minimum disorder so that a more homogenous \n",
    "    dataset can be obtained\n",
    "    \"\"\"\n",
    "    feat=None\n",
    "    temp=[]#initialzing an empty array\n",
    "    for each in titles:\n",
    "        var=quality(given_data,each,titles)#calcaulates the disorder of all tests\n",
    "        temp.append(var)\n",
    "    min_disorder=min(temp)#returns the minimum disorder\n",
    "    feat=titles[temp.index(min_disorder)]#feat is set as the test with the minimum disorder\n",
    "    return feat"
   ]
  },
  {
   "cell_type": "code",
   "execution_count": 22,
   "metadata": {
    "collapsed": false
   },
   "outputs": [
    {
     "name": "stdout",
     "output_type": "stream",
     "text": [
      "{'age': {'forty': {'gender': {'male': 'activity', 'female': 'food'}}, 'thirty': 'food'}}\n"
     ]
    }
   ],
   "source": [
    "def create_itree(given_data,titles):\n",
    "    \n",
    "    \"\"\"\n",
    "    Recursive function that builds the identification tree and branches the dataset to form a homogenous dataset\n",
    "    \"\"\"\n",
    "    header=only_feat(titles)#list containing all the tests\n",
    "    \n",
    "\n",
    "    best=choose_feat(header,given_data)#chooses the test with the least disorder for branching to form a homogenous dataset\n",
    "\n",
    "    tree={best:{}}# initializing a dictionary of lists\n",
    "\n",
    "    #the loop iterates through the unique values of the chosen test\n",
    "    for val in unique_val(best,given_data,titles):\n",
    "    \n",
    "        data_mod=modify_data(best,val,given_data,titles)#the data is split and a tree is formed for each value\n",
    "\n",
    "        total_themes=feat_entries(\"themes\",data_mod,titles)#all the possible classes for a given modified dataset are stored in themes\n",
    "        \n",
    "        #this if condition checks if the dataset if homogenous\n",
    "        if((total_themes.count(total_themes[0])==len(total_themes))):\n",
    "            #if it is, the value of the test and its attribute and the class is appended to the dictionary of lists\n",
    "            tree[best][val]=total_themes[0]\n",
    "\n",
    "\n",
    "        else:\n",
    "            subtree=create_itree(data_mod,titles)\n",
    "            #if the dataset is not homogenous, the create_itree function is called again.\n",
    "            #this happens until the entire dataset is homogenous\n",
    "\n",
    "            tree[best][val]=subtree\n",
    "\n",
    "\n",
    "    return tree\n",
    "\n",
    "print(create_itree(data,titles))"
   ]
  },
  {
   "cell_type": "code",
   "execution_count": null,
   "metadata": {
    "collapsed": true
   },
   "outputs": [],
   "source": []
  }
 ],
 "metadata": {
  "kernelspec": {
   "display_name": "Python 3",
   "language": "python",
   "name": "python3"
  },
  "language_info": {
   "codemirror_mode": {
    "name": "ipython",
    "version": 3
   },
   "file_extension": ".py",
   "mimetype": "text/x-python",
   "name": "python",
   "nbconvert_exporter": "python",
   "pygments_lexer": "ipython3",
   "version": "3.6.0"
  }
 },
 "nbformat": 4,
 "nbformat_minor": 2
}
