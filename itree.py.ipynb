{
 "cells": [
  {
   "cell_type": "code",
   "execution_count": 15,
   "metadata": {
    "collapsed": true
   },
   "outputs": [],
   "source": [
    "import math\n",
    "\n",
    "#sample data\n",
    "titles=['age','gender','mood','themes']\n",
    "data=[['forty','male','happy','activity'],\n",
    "      ['forty','female','happy','food'],\n",
    "      ['thirty','male','sad','food']]"
   ]
  },
  {
   "cell_type": "code",
   "execution_count": 16,
   "metadata": {
    "collapsed": true
   },
   "outputs": [],
   "source": [
    "def only_feat(titles):\n",
    "    of=[]\n",
    "    for each in titles:\n",
    "        if each!=\"themes\":\n",
    "            of.append(each)\n",
    "    return of"
   ]
  },
  {
   "cell_type": "code",
   "execution_count": 17,
   "metadata": {
    "collapsed": true
   },
   "outputs": [],
   "source": [
    "def index(input,titles):\n",
    "    output=0\n",
    "    for each in titles:\n",
    "        if input==each:\n",
    "            output=titles.index(each)\n",
    "    return output"
   ]
  },
  {
   "cell_type": "code",
   "execution_count": 18,
   "metadata": {
    "collapsed": true
   },
   "outputs": [],
   "source": [
    "def feat_entries(feat,given_data,titles):\n",
    "    val=[]\n",
    "    i=index(feat,titles)\n",
    "    for row in given_data:\n",
    "        val.append(row[i])\n",
    "    return val"
   ]
  },
  {
   "cell_type": "code",
   "execution_count": 19,
   "metadata": {
    "collapsed": true
   },
   "outputs": [],
   "source": [
    "def unique_val(feat,given_data,titles):\n",
    "    unique=[]\n",
    "    entries=feat_entries(feat,given_data,titles)\n",
    "    for each in entries:\n",
    "        if unique.count(each)==0:\n",
    "            unique.append(each)\n",
    "    return unique"
   ]
  },
  {
   "cell_type": "code",
   "execution_count": 20,
   "metadata": {
    "collapsed": true
   },
   "outputs": [],
   "source": [
    "def default(feat,given_data):\n",
    "    default=[]\n",
    "    theme_total=feat_entries(feat,given_data,titles)\n",
    "    uniq_th=unique_val(feat,given_data,titles)\n",
    "    for each in uniq_th:\n",
    "        v=theme_total.count(each)\n",
    "        default.append(v)\n",
    "        i=max(default)\n",
    "    x=default.index(i)\n",
    "    return uniq_th[x]"
   ]
  },
  {
   "cell_type": "code",
   "execution_count": 21,
   "metadata": {
    "collapsed": true
   },
   "outputs": [],
   "source": [
    "def modify_data(feat,value,given_data,titles):\n",
    "    data_mod=[]\n",
    "    ind=index(feat,titles)\n",
    "    for row in given_data:\n",
    "        if (row[ind]==value):\n",
    "            data_mod.append(row)\n",
    "    return data_mod"
   ]
  },
  {
   "cell_type": "code",
   "execution_count": 22,
   "metadata": {
    "collapsed": true
   },
   "outputs": [],
   "source": [
    "def quality(given_data,feat,titles):\t\n",
    "    values=unique_val(feat,given_data,titles)\n",
    "    quality=0.0\n",
    "    m=len(given_data)\n",
    "    dis=0.0\n",
    "    for each in values:\n",
    "        data_mod=[]\n",
    "        ind=index(feat,titles)\n",
    "        for row in given_data:\n",
    "            if (row[ind]==each):\n",
    "                data_mod.append(row)\n",
    "\n",
    "        n=len(data_mod)\n",
    "    \n",
    "        entr=0.0\n",
    "        d=0.0\n",
    "        val=[]\n",
    "        for row in data_mod:\n",
    "            val.append(row[len(row)-1])\n",
    "\n",
    "        unique=[]\n",
    "        for one in val:\n",
    "            if unique.count(one)<=0:\n",
    "                unique.append(one)\n",
    "\n",
    "\n",
    "        for u in unique:\n",
    "            c=0.0\n",
    "            for row in data_mod:\n",
    "                if (row[len(row)-1]==u):\n",
    "                    c+=1\n",
    "            #calculates entropy\n",
    "            entr += (-c/n)*math.log(c/n,2)\n",
    "\n",
    "        #calculates disorder\n",
    "        d += (n/float(m))*entr\n",
    "        dis += d\n",
    "\n",
    "    return dis"
   ]
  },
  {
   "cell_type": "code",
   "execution_count": 23,
   "metadata": {
    "collapsed": true
   },
   "outputs": [],
   "source": [
    "def choose_feat(titles,given_data):\n",
    "    feat=None\n",
    "    temp=[]\n",
    "    for each in titles:\n",
    "        var=quality(given_data,each,titles)\n",
    "        temp.append(var)\n",
    "    min_disorder=min(temp)\n",
    "    feat=titles[temp.index(min_disorder)]\n",
    "    return feat"
   ]
  },
  {
   "cell_type": "code",
   "execution_count": 24,
   "metadata": {
    "collapsed": false
   },
   "outputs": [],
   "source": [
    "\n",
    "def create_itree(given_data,titles):\n",
    "    header=only_feat(titles)\n",
    "\n",
    "\n",
    "    best=choose_feat(header,given_data)\n",
    "\n",
    "\n",
    "    tree={best:{}}\n",
    "\n",
    "\n",
    "    for val in unique_val(best,given_data,titles):\n",
    "\n",
    "        data_mod=modify_data(best,val,given_data,titles)\n",
    "\n",
    "        total_themes=feat_entries(\"themes\",data_mod,titles)\n",
    "\n",
    "        if((total_themes.count(total_themes[0])==len(total_themes))):\n",
    "\n",
    "            \n",
    "            tree[best][val]=total_themes[0]\n",
    "\n",
    "\n",
    "        else:\n",
    "            subtree=create_itree(data_mod,titles)\n",
    "\n",
    "            tree[best][val]=subtree\n",
    "\n",
    "\n",
    "    return tree"
   ]
  },
  {
   "cell_type": "code",
   "execution_count": 25,
   "metadata": {
    "collapsed": false
   },
   "outputs": [
    {
     "name": "stdout",
     "output_type": "stream",
     "text": [
      "{'age': {'thirty': 'food', 'forty': 'activity'}}\n"
     ]
    }
   ],
   "source": [
    "print (create_itree(data,titles))"
   ]
  },
  {
   "cell_type": "code",
   "execution_count": null,
   "metadata": {
    "collapsed": true
   },
   "outputs": [],
   "source": []
  }
 ],
 "metadata": {
  "anaconda-cloud": {},
  "kernelspec": {
   "display_name": "Python [default]",
   "language": "python",
   "name": "python3"
  },
  "language_info": {
   "codemirror_mode": {
    "name": "ipython",
    "version": 3
   },
   "file_extension": ".py",
   "mimetype": "text/x-python",
   "name": "python",
   "nbconvert_exporter": "python",
   "pygments_lexer": "ipython3",
   "version": "3.5.2"
  }
 },
 "nbformat": 4,
 "nbformat_minor": 1
}
